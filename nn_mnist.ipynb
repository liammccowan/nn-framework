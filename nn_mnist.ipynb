{
 "metadata": {
  "language_info": {
   "codemirror_mode": {
    "name": "ipython",
    "version": 3
   },
   "file_extension": ".py",
   "mimetype": "text/x-python",
   "name": "python",
   "nbconvert_exporter": "python",
   "pygments_lexer": "ipython3",
   "version": "3.8.5"
  },
  "orig_nbformat": 2,
  "kernelspec": {
   "name": "python385jvsc74a57bd0d040db93020f5fae0c772202760c2c51b2e4dd5d81084a23d562958c28bd29b5",
   "display_name": "Python 3.8.5 64-bit ('base': conda)"
  }
 },
 "nbformat": 4,
 "nbformat_minor": 2,
 "cells": [
  {
   "cell_type": "code",
   "execution_count": null,
   "metadata": {},
   "outputs": [],
   "source": [
    "import nn\n",
    "import numpy as np\n",
    "from tensorflow import keras\n",
    "from matplotlib import pyplot as plt\n",
    "from nn.model import Model\n",
    "from nn.layers import Linear, ReLU, Sigmoid, SoftmaxWithLoss, Dropout, BatchNorm, Convolutional, MaxPool, Flatten\n",
    "from nn.optimizers import SGD, Adam"
   ]
  },
  {
   "cell_type": "code",
   "execution_count": null,
   "metadata": {},
   "outputs": [],
   "source": [
    "(x_train, y_train), (x_test, y_test) = keras.datasets.mnist.load_data()"
   ]
  },
  {
   "cell_type": "code",
   "execution_count": null,
   "metadata": {},
   "outputs": [],
   "source": [
    "n = 1\n",
    "l_train = int(x_train.shape[0] / n)\n",
    "l_test = int(x_test.shape[0] / n)\n",
    "x_train = x_train[:l_train,:,:]\n",
    "y_train = y_train[:l_train]\n",
    "x_test = x_test[:l_test,:,:]\n",
    "y_test = y_test[:l_test]"
   ]
  },
  {
   "cell_type": "code",
   "execution_count": null,
   "metadata": {},
   "outputs": [],
   "source": [
    "random_indices = np.random.choice(x_train.shape[0], 16, replace = False)\n",
    "example_images = plt.figure()\n",
    "for i in range(16):\n",
    "    plt.subplot(4, 4, i + 1)\n",
    "    plt.tight_layout()\n",
    "    plt.imshow(x_train[random_indices[i]], cmap = 'gray', interpolation = 'none')\n",
    "    plt.title(\"Digit: {}\".format(y_train[random_indices[i]]))\n",
    "    plt.xticks([])\n",
    "    plt.yticks([])"
   ]
  },
  {
   "cell_type": "code",
   "execution_count": null,
   "metadata": {},
   "outputs": [],
   "source": [
    "x_train = np.expand_dims(x_train, 1)\n",
    "x_test = np.expand_dims(x_test, 1)\n",
    "\n",
    "x_train = x_train.astype(\"float32\") / 255\n",
    "x_test = x_test.astype(\"float32\") / 255"
   ]
  },
  {
   "cell_type": "code",
   "execution_count": null,
   "metadata": {},
   "outputs": [],
   "source": [
    "y_train = np.eye(np.max(y_train) + 1)[y_train]\n",
    "y_test = np.eye(np.max(y_test) + 1)[y_test]"
   ]
  },
  {
   "cell_type": "code",
   "execution_count": null,
   "metadata": {},
   "outputs": [],
   "source": [
    "num_classes = 10\n",
    "num_epochs = 1\n",
    "batch_size = 64"
   ]
  },
  {
   "cell_type": "code",
   "execution_count": null,
   "metadata": {},
   "outputs": [],
   "source": [
    "model = Model()\n",
    "\n",
    "model.add(Flatten())\n",
    "\n",
    "model.add(Linear(784, 10))\n",
    "model.add(ReLU())\n",
    "\n",
    "model.add(Linear(10, 10))\n",
    "model.add(ReLU())\n",
    "\n",
    "model.add(Linear(10, num_classes))\n",
    "loss_function = SoftmaxWithLoss()\n"
   ]
  },
  {
   "cell_type": "code",
   "execution_count": null,
   "metadata": {},
   "outputs": [],
   "source": [
    "optimizer = Adam(model.parameters, learning_rate = 0.001, beta_1 = 0.9, beta_2 = 0.999, epsilon = 1e-8)"
   ]
  },
  {
   "cell_type": "code",
   "execution_count": null,
   "metadata": {
    "tags": [
     "outputPrepend"
    ]
   },
   "outputs": [],
   "source": [
    "model.train(x_train, y_train, batch_size, num_epochs, optimizer, loss_function, verbose = True)"
   ]
  },
  {
   "cell_type": "code",
   "execution_count": null,
   "metadata": {},
   "outputs": [],
   "source": [
    "model_loss_plot = plt.figure(figsize = (8, 4))\n",
    "plt.plot(model.training_loss)\n",
    "plt.title(\"Model Loss\")\n",
    "plt.xlabel(\"Epoch\")\n",
    "plt.ylabel(\"Loss\")\n",
    "plt.show()"
   ]
  },
  {
   "cell_type": "code",
   "execution_count": null,
   "metadata": {
    "tags": [
     "outputPrepend"
    ]
   },
   "outputs": [],
   "source": [
    "predictions_train = np.argmax(model.predict(x_train), axis = 1)\n",
    "predictions_test = np.argmax(model.predict(x_test), axis = 1)"
   ]
  },
  {
   "cell_type": "code",
   "execution_count": null,
   "metadata": {},
   "outputs": [],
   "source": [
    "y_train = np.argmax(y_train, axis = 1)\n",
    "y_test = np.argmax(y_test, axis = 1)\n",
    "\n",
    "train_accuracy = np.sum(predictions_train == y_train) / y_train.shape[0]\n",
    "test_accuracy = np.sum(predictions_test == y_test) / y_test.shape[0]\n",
    "print(\"Train Accuracy: {} | Test Accuracy: {}\".format(train_accuracy, test_accuracy))"
   ]
  },
  {
   "cell_type": "code",
   "execution_count": null,
   "metadata": {},
   "outputs": [],
   "source": [
    "correct_indices = np.nonzero(predictions_test == y_test)[0]\n",
    "incorrect_indices = np.nonzero(predictions_test != y_test)[0]\n",
    "print(\"{} Images Classified Correctly | {} Images Classified Incorrectly\".format(len(correct_indices), len(incorrect_indices)))\n",
    "\n",
    "random_correct_indices = np.random.choice(correct_indices, 4, replace = False)\n",
    "correct_examples = plt.figure()\n",
    "for i in range(4):\n",
    "    plt.subplot(1, 4, i + 1)\n",
    "    plt.imshow(x_test[random_correct_indices[i]].reshape(28, 28), cmap = 'gray', interpolation = 'none')\n",
    "    plt.title(\"Predicted: {}\\nTruth: {}\".format(predictions_test[random_correct_indices[i]], y_test[random_correct_indices[i]]))\n",
    "    plt.xticks([])\n",
    "    plt.yticks([])\n",
    "\n",
    "random_incorrect_indices = np.random.choice(incorrect_indices, 4, replace = False)\n",
    "incorrect_examples = plt.figure()\n",
    "for i in range (4):\n",
    "    plt.subplot(1, 4, i + 1)\n",
    "    plt.imshow(x_test[random_incorrect_indices[i]].reshape(28, 28), cmap = 'gray', interpolation = 'none')\n",
    "    plt.title(\"Predicted: {}\\nTruth: {}\".format(predictions_test[random_incorrect_indices[i]], y_test[random_incorrect_indices[i]]))\n",
    "    plt.xticks([])\n",
    "    plt.yticks([])"
   ]
  }
 ]
}